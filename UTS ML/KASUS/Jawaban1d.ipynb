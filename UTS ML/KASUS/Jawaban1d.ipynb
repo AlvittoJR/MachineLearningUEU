{
 "cells": [
  {
   "cell_type": "raw",
   "id": "c5abd543-d671-4d6e-9e9c-7877bb553e5e",
   "metadata": {},
   "source": [
    "Siapa yang paling banyak datang ke kampus?"
   ]
  },
  {
   "cell_type": "code",
   "execution_count": 1,
   "id": "8b3af914-342c-4580-8958-d9f5979ca0b5",
   "metadata": {},
   "outputs": [],
   "source": [
    "import pandas as pd"
   ]
  },
  {
   "cell_type": "code",
   "execution_count": 2,
   "id": "2ca0775d-644d-474e-b8f0-4379234e8bfe",
   "metadata": {},
   "outputs": [],
   "source": [
    "data = {\n",
    "    \"hari\": [\"Senin\", \"Selasa\", \"Rabu\", \"Kamis\", \"Jumat\", \"Sabtu\", \"Minggu\"],\n",
    "    \"hari_datang\": [2, 3, 4, 1, 2, 5, 2],\n",
    "    \"biaya\": [2 * 30000, 3 * 35000, 4 * 25000, 1 * 15000, 2 * 20000, 5 * 30000, 2 * 35000],\n",
    "    \"mahasiswa\": [\"Ani\", \"Budi\", \"Jono\", \"Lono\", \"Jono\", \"Ani\", \"Budi\"],\n",
    "}\n",
    "\n",
    "# Buat DataFrame\n",
    "df = pd.DataFrame(data)"
   ]
  },
  {
   "cell_type": "code",
   "execution_count": 3,
   "id": "5b76f201-7a51-4f6a-884e-dbeeebeb0fe7",
   "metadata": {},
   "outputs": [
    {
     "name": "stdout",
     "output_type": "stream",
     "text": [
      "Mahasiswa yang paling banyak datang ke kampus: Ani\n"
     ]
    }
   ],
   "source": [
    "print(\"Mahasiswa yang paling banyak datang ke kampus:\", df[\"mahasiswa\"][df[\"hari_datang\"].max()])"
   ]
  }
 ],
 "metadata": {
  "kernelspec": {
   "display_name": "Python 3 (ipykernel)",
   "language": "python",
   "name": "python3"
  },
  "language_info": {
   "codemirror_mode": {
    "name": "ipython",
    "version": 3
   },
   "file_extension": ".py",
   "mimetype": "text/x-python",
   "name": "python",
   "nbconvert_exporter": "python",
   "pygments_lexer": "ipython3",
   "version": "3.11.5"
  }
 },
 "nbformat": 4,
 "nbformat_minor": 5
}
