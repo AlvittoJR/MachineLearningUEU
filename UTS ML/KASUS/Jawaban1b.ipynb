{
 "cells": [
  {
   "cell_type": "raw",
   "id": "32f75fd2-be29-4cdd-9b19-6b559ffc9e68",
   "metadata": {},
   "source": [
    "Kapan biaya tertinggi terjadi ?"
   ]
  },
  {
   "cell_type": "code",
   "execution_count": 1,
   "id": "1a5af161-45cf-4b93-9093-af7b3ce7815f",
   "metadata": {},
   "outputs": [],
   "source": [
    "import pandas as pd"
   ]
  },
  {
   "cell_type": "code",
   "execution_count": 2,
   "id": "3892b330-8498-4344-9afc-0f1c95d4fd9b",
   "metadata": {},
   "outputs": [],
   "source": [
    "data = {\n",
    "    \"hari\": [\"Senin\", \"Selasa\", \"Rabu\", \"Kamis\", \"Jumat\", \"Sabtu\", \"Minggu\"],\n",
    "    \"hari_datang\": [2, 3, 4, 1, 2, 5, 2],\n",
    "    \"biaya\": [2 * 30000, 3 * 35000, 4 * 25000, 1 * 15000, 2 * 20000, 5 * 30000, 2 * 35000],\n",
    "    \"mahasiswa\": [\"Ani\", \"Budi\", \"Jono\", \"Lono\", \"Jono\", \"Ani\", \"Budi\"],\n",
    "}\n",
    "\n",
    "# DataFrame\n",
    "df = pd.DataFrame(data)"
   ]
  },
  {
   "cell_type": "code",
   "execution_count": 4,
   "id": "8054225a-a6af-4408-8f7a-bd9f5efdeaa9",
   "metadata": {},
   "outputs": [
    {
     "name": "stdout",
     "output_type": "stream",
     "text": [
      "Biaya tertinggi terjadi pada hari: Sabtu\n"
     ]
    }
   ],
   "source": [
    "print(\"Biaya tertinggi terjadi pada hari:\", df[\"hari\"][df[\"biaya\"] == df[\"biaya\"].max()].item());"
   ]
  }
 ],
 "metadata": {
  "kernelspec": {
   "display_name": "Python 3 (ipykernel)",
   "language": "python",
   "name": "python3"
  },
  "language_info": {
   "codemirror_mode": {
    "name": "ipython",
    "version": 3
   },
   "file_extension": ".py",
   "mimetype": "text/x-python",
   "name": "python",
   "nbconvert_exporter": "python",
   "pygments_lexer": "ipython3",
   "version": "3.11.5"
  }
 },
 "nbformat": 4,
 "nbformat_minor": 5
}
