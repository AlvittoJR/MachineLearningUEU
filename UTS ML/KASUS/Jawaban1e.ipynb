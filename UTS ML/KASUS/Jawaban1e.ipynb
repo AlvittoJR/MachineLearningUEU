{
 "cells": [
  {
   "cell_type": "raw",
   "id": "87301e23-ac1b-4f88-9a4b-1556acbeb5bf",
   "metadata": {},
   "source": [
    "Siapa yang datang pada hari minggu?"
   ]
  },
  {
   "cell_type": "code",
   "execution_count": 1,
   "id": "7c4c08f1-ee7b-4f75-9b7b-29eabc83190f",
   "metadata": {},
   "outputs": [],
   "source": [
    "import pandas as pd"
   ]
  },
  {
   "cell_type": "code",
   "execution_count": 2,
   "id": "e986469a-db47-4a29-a1b8-b21889500cc9",
   "metadata": {},
   "outputs": [],
   "source": [
    "data = {\n",
    "    \"hari\": [\"Senin\", \"Selasa\", \"Rabu\", \"Kamis\", \"Jumat\", \"Sabtu\", \"Minggu\"],\n",
    "    \"hari_datang\": [2, 3, 4, 1, 2, 5, 2],\n",
    "    \"biaya\": [2 * 30000, 3 * 35000, 4 * 25000, 1 * 15000, 2 * 20000, 5 * 30000, 2 * 35000],\n",
    "    \"mahasiswa\": [\"Ani\", \"Budi\", \"Jono\", \"Lono\", \"Jono\", \"Ani\", \"Budi\"],\n",
    "}\n",
    "\n",
    "# Buat DataFrame\n",
    "df = pd.DataFrame(data)"
   ]
  },
  {
   "cell_type": "code",
   "execution_count": 3,
   "id": "ac6f756a-6671-4812-b0e9-d6c893c85d2e",
   "metadata": {},
   "outputs": [
    {
     "name": "stdout",
     "output_type": "stream",
     "text": [
      "Mahasiswa yang datang pada hari minggu: Budi\n"
     ]
    }
   ],
   "source": [
    "print(\"Mahasiswa yang datang pada hari minggu:\", df[\"mahasiswa\"][df[\"hari\"] == \"Minggu\"].item())"
   ]
  }
 ],
 "metadata": {
  "kernelspec": {
   "display_name": "Python 3 (ipykernel)",
   "language": "python",
   "name": "python3"
  },
  "language_info": {
   "codemirror_mode": {
    "name": "ipython",
    "version": 3
   },
   "file_extension": ".py",
   "mimetype": "text/x-python",
   "name": "python",
   "nbconvert_exporter": "python",
   "pygments_lexer": "ipython3",
   "version": "3.11.5"
  }
 },
 "nbformat": 4,
 "nbformat_minor": 5
}
