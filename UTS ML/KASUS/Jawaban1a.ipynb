{
 "cells": [
  {
   "cell_type": "markdown",
   "id": "88056e75-e4b9-4658-90f8-f32ec5ca41e0",
   "metadata": {},
   "source": [
    "a) Berapa rata-rata mahasiswa datang pada minggu ini?"
   ]
  },
  {
   "cell_type": "code",
   "execution_count": 1,
   "id": "ef12173f-6521-490e-b8ce-82b81d764627",
   "metadata": {},
   "outputs": [],
   "source": [
    "import pandas as pd"
   ]
  },
  {
   "cell_type": "code",
   "execution_count": 2,
   "id": "20691736-109e-45c1-a144-2f3847921c0b",
   "metadata": {},
   "outputs": [],
   "source": [
    "data = {\n",
    "    \"hari\": [\"Senin\", \"Selasa\", \"Rabu\", \"Kamis\", \"Jumat\", \"Sabtu\", \"Minggu\"],\n",
    "    \"hari_datang\": [2, 3, 4, 1, 2, 5, 2],\n",
    "    \"biaya\": [2 * 30000, 3 * 35000, 4 * 25000, 1 * 15000, 2 * 20000, 5 * 30000, 2 * 35000],\n",
    "    \"mahasiswa\": [\"Ani\", \"Budi\", \"Jono\", \"Lono\", \"Jono\", \"Ani\", \"Budi\"],\n",
    "}\n",
    "\n",
    "# DataFrame\n",
    "df = pd.DataFrame(data)"
   ]
  },
  {
   "cell_type": "code",
   "execution_count": 4,
   "id": "ab0a91f0-aaea-4af9-8829-7ca63425050e",
   "metadata": {},
   "outputs": [
    {
     "name": "stdout",
     "output_type": "stream",
     "text": [
      "Rata-rata mahasiswa datang pada minggu ini: 2.7142857142857144\n"
     ]
    }
   ],
   "source": [
    "print(\"Rata-rata mahasiswa datang pada minggu ini:\", df[\"hari_datang\"].mean())"
   ]
  }
 ],
 "metadata": {
  "kernelspec": {
   "display_name": "Python 3 (ipykernel)",
   "language": "python",
   "name": "python3"
  },
  "language_info": {
   "codemirror_mode": {
    "name": "ipython",
    "version": 3
   },
   "file_extension": ".py",
   "mimetype": "text/x-python",
   "name": "python",
   "nbconvert_exporter": "python",
   "pygments_lexer": "ipython3",
   "version": "3.11.5"
  }
 },
 "nbformat": 4,
 "nbformat_minor": 5
}
