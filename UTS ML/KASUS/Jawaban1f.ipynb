{
 "cells": [
  {
   "cell_type": "raw",
   "id": "7f7134ac-40fd-478a-aa04-9046c5429e21",
   "metadata": {},
   "source": [
    "Berapa biaya tertinggi dan terendah?"
   ]
  },
  {
   "cell_type": "code",
   "execution_count": 1,
   "id": "856f7988-1255-4114-a287-cd61d97175ee",
   "metadata": {},
   "outputs": [],
   "source": [
    "import pandas as pd"
   ]
  },
  {
   "cell_type": "code",
   "execution_count": 2,
   "id": "9fed6912-220e-4280-adb7-3db1bef519ca",
   "metadata": {},
   "outputs": [],
   "source": [
    "data = {\n",
    "    \"hari\": [\"Senin\", \"Selasa\", \"Rabu\", \"Kamis\", \"Jumat\", \"Sabtu\", \"Minggu\"],\n",
    "    \"hari_datang\": [2, 3, 4, 1, 2, 5, 2],\n",
    "    \"biaya\": [2 * 30000, 3 * 35000, 4 * 25000, 1 * 15000, 2 * 20000, 5 * 30000, 2 * 35000],\n",
    "    \"mahasiswa\": [\"Ani\", \"Budi\", \"Jono\", \"Lono\", \"Jono\", \"Ani\", \"Budi\"],\n",
    "}\n",
    "\n",
    "# Buat DataFrame\n",
    "df = pd.DataFrame(data)"
   ]
  },
  {
   "cell_type": "code",
   "execution_count": 3,
   "id": "bcb74207-bcf2-407f-8c5e-a330fddc5c7d",
   "metadata": {},
   "outputs": [
    {
     "name": "stdout",
     "output_type": "stream",
     "text": [
      "Biaya tertinggi: 150000\n",
      "Biaya terendah: 15000\n"
     ]
    }
   ],
   "source": [
    "print(\"Biaya tertinggi:\", df[\"biaya\"].max())\n",
    "print(\"Biaya terendah:\", df[\"biaya\"].min())"
   ]
  }
 ],
 "metadata": {
  "kernelspec": {
   "display_name": "Python 3 (ipykernel)",
   "language": "python",
   "name": "python3"
  },
  "language_info": {
   "codemirror_mode": {
    "name": "ipython",
    "version": 3
   },
   "file_extension": ".py",
   "mimetype": "text/x-python",
   "name": "python",
   "nbconvert_exporter": "python",
   "pygments_lexer": "ipython3",
   "version": "3.11.5"
  }
 },
 "nbformat": 4,
 "nbformat_minor": 5
}
