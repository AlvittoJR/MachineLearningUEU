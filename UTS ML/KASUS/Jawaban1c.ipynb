{
 "cells": [
  {
   "cell_type": "raw",
   "id": "7fe6b1f2-05fb-4387-ad34-e41998f0de59",
   "metadata": {},
   "source": [
    "Hari apa biaya lebih dari 110000?"
   ]
  },
  {
   "cell_type": "code",
   "execution_count": 1,
   "id": "acaa764d-bafc-4374-928e-267b7a406258",
   "metadata": {},
   "outputs": [],
   "source": [
    "import pandas as pd"
   ]
  },
  {
   "cell_type": "code",
   "execution_count": 2,
   "id": "4e7864b7-8a8f-4495-abf8-700c41d1e53b",
   "metadata": {},
   "outputs": [],
   "source": [
    "data = {\n",
    "    \"hari\": [\"Senin\", \"Selasa\", \"Rabu\", \"Kamis\", \"Jumat\", \"Sabtu\", \"Minggu\"],\n",
    "    \"hari_datang\": [2, 3, 4, 1, 2, 5, 2],\n",
    "    \"biaya\": [2 * 30000, 3 * 35000, 4 * 25000, 1 * 15000, 2 * 20000, 5 * 30000, 2 * 35000],\n",
    "    \"mahasiswa\": [\"Ani\", \"Budi\", \"Jono\", \"Lono\", \"Jono\", \"Ani\", \"Budi\"],\n",
    "}\n",
    "\n",
    "# Buat DataFrame\n",
    "df = pd.DataFrame(data)"
   ]
  },
  {
   "cell_type": "code",
   "execution_count": 3,
   "id": "65274eaf-c7e6-4b90-a560-f79fb537a9df",
   "metadata": {},
   "outputs": [
    {
     "name": "stdout",
     "output_type": "stream",
     "text": [
      "Hari apa biaya lebih dari 110000: Sabtu\n"
     ]
    }
   ],
   "source": [
    "print(\"Hari apa biaya lebih dari 110000:\", df[\"hari\"][df[\"biaya\"] > 110000].item())"
   ]
  }
 ],
 "metadata": {
  "kernelspec": {
   "display_name": "Python 3 (ipykernel)",
   "language": "python",
   "name": "python3"
  },
  "language_info": {
   "codemirror_mode": {
    "name": "ipython",
    "version": 3
   },
   "file_extension": ".py",
   "mimetype": "text/x-python",
   "name": "python",
   "nbconvert_exporter": "python",
   "pygments_lexer": "ipython3",
   "version": "3.11.5"
  }
 },
 "nbformat": 4,
 "nbformat_minor": 5
}
