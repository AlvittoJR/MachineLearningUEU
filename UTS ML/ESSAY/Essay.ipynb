{
 "cells": [
  {
   "cell_type": "raw",
   "id": "04b9b68a-f868-4b43-bff3-fad2a37d3449",
   "metadata": {},
   "source": [
    "1) Jelaskan apa yang dimaksud dengan Machine Learning\n",
    "2) Berikan contoh penerapan implemetasi dalam kehidupan sehari-hari terkait\n",
    "Machine Learning. Dan jelaskan mengapa membutuhkannya dan manfaatnya\n",
    "3) Jelaskan macam-macam taxonomi dalam pengerapan Machine Learning"
   ]
  },
  {
   "cell_type": "raw",
   "id": "945e3960-f3b1-4648-b665-c7a6c6d00d80",
   "metadata": {},
   "source": [
    "1. Machine Learning (Pembelajaran Mesin):\n",
    "Machine Learning (ML) adalah cabang dari kecerdasan buatan (AI) yang fokus pada pengembangan sistem yang mampu belajar dari data. Sebuah sistem machine learning menggunakan algoritma dan model matematis untuk menganalisis data, mengenali pola, dan membuat keputusan tanpa harus secara eksplisit diprogram untuk tugas tersebut. Dengan kata lain, mesin dapat belajar dari pengalaman dan meningkatkan kinerjanya seiring waktu.\n",
    "2. Contoh Penerapan dan Manfaat Machine Learning dalam Kehidupan Sehari-hari:\n",
    "Contoh Penerapan:\n",
    "•\tPengenal Wajah (Face Recognition): Digunakan dalam smartphone untuk membuka kunci perangkat atau di bandara untuk identifikasi keamanan.\n",
    "•\tRekomendasi Produk (Product Recommendations): Platform e-commerce seperti Amazon menggunakan ML untuk memberikan rekomendasi produk berdasarkan riwayat pembelian dan preferensi pengguna.\n",
    "•\tPengenalan Suara (Speech Recognition): Asisten virtual seperti Siri atau Google Assistant menggunakan ML untuk mengenali dan memahami perintah suara.\n",
    "•\tMobil Otonom (Autonomous Vehicles): Machine Learning digunakan dalam pengembangan mobil otonom untuk mengenali objek di sekitarnya dan membuat keputusan berdasarkan data sensor.\n",
    "Manfaat:\n",
    "•\tPeningkatan Efisiensi: ML dapat memproses dan menganalisis data dalam skala besar dengan cepat, memungkinkan pengambilan keputusan yang lebih efisien.\n",
    "•\tPersonalisasi: Dengan menganalisis pola perilaku pengguna, ML dapat memberikan pengalaman yang lebih personal, seperti rekomendasi yang disesuaikan dan konten yang relevan.\n",
    "•\tPrediksi yang Akurat: Dengan menggunakan model ML, kita dapat membuat prediksi yang lebih akurat berdasarkan pola data historis.\n",
    "•\tAutomatisasi Tugas: ML dapat digunakan untuk mengotomatisasi tugas-tugas yang repetitif dan memakan waktu.\n",
    "3. Macam-macam Taxonomi dalam Penerapan Machine Learning:\n",
    "Berdasarkan Tujuan Pembelajaran:\n",
    "•\tSupervised Learning (Pembelajaran Terawasi): Model dilatih menggunakan data yang sudah memiliki label, dengan tujuan untuk membuat prediksi atau mengidentifikasi pola.\n",
    "•\tUnsupervised Learning (Pembelajaran Tanpa Pengawasan): Model mencoba mengidentifikasi pola atau struktur dalam data tanpa label. Contoh termasuk clustering dan reduksi dimensi.\n",
    "Berdasarkan Jenis Algoritma:\n",
    "•\tRegression: Digunakan untuk memprediksi nilai numerik berdasarkan data yang telah diamati sebelumnya.\n",
    "•\tClassification: Digunakan untuk mengklasifikasikan objek ke dalam kelas atau kategori tertentu.\n",
    "•\tClustering: Memisahkan data ke dalam kelompok-kelompok berdasarkan kesamaan karakteristik.\n",
    "Berdasarkan Pendekatan Pembelajaran:\n",
    "•\tBatch Learning: Model dilatih menggunakan seluruh set data sekaligus.\n",
    "•\tOnline Learning: Model diperbarui secara kontinu saat data baru tiba."
   ]
  }
 ],
 "metadata": {
  "kernelspec": {
   "display_name": "Python 3 (ipykernel)",
   "language": "python",
   "name": "python3"
  },
  "language_info": {
   "codemirror_mode": {
    "name": "ipython",
    "version": 3
   },
   "file_extension": ".py",
   "mimetype": "text/x-python",
   "name": "python",
   "nbconvert_exporter": "python",
   "pygments_lexer": "ipython3",
   "version": "3.11.5"
  }
 },
 "nbformat": 4,
 "nbformat_minor": 5
}
