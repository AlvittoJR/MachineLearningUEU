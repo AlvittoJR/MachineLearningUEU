{
 "cells": [
  {
   "cell_type": "markdown",
   "id": "64084321",
   "metadata": {},
   "source": [
    "TUGAS SESI 2 "
   ]
  },
  {
   "cell_type": "markdown",
   "id": "1bf30fc4",
   "metadata": {},
   "source": [
    "ALVITTO JUAN RAMADHAN - 20210801455"
   ]
  },
  {
   "cell_type": "code",
   "execution_count": 1,
   "id": "9b9a1c8b-f6a8-4685-9ab4-352f39ce7e1e",
   "metadata": {},
   "outputs": [],
   "source": [
    "nama = \"Alvitto Juan Ramadhan\"\n",
    "nim_mahasiswa = \"20210801455\"\n",
    "mata_kuliah = \"Machine Learning\""
   ]
  },
  {
   "cell_type": "code",
   "execution_count": 2,
   "id": "a77d9efe-6180-40e9-8561-ee523d77c214",
   "metadata": {},
   "outputs": [
    {
     "name": "stdout",
     "output_type": "stream",
     "text": [
      "DATA DIRI\n",
      "Nama :  Alvitto Juan Ramadhan\n",
      "NIM Mahasiswa:  20210801455\n",
      "Perkuliahan:  Machine Learning\n"
     ]
    }
   ],
   "source": [
    "print(\"DATA DIRI\")\n",
    "print(\"Nama : \", nama)\n",
    "print(\"NIM Mahasiswa: \", nim_mahasiswa)\n",
    "print(\"Perkuliahan: \", mata_kuliah)"
   ]
  },
  {
   "cell_type": "code",
   "execution_count": 1,
   "id": "99a688d8-dec8-4052-be09-2886ba4689d2",
   "metadata": {},
   "outputs": [],
   "source": [
    "matriksC= [[1,2,3],[4,5,6]]"
   ]
  },
  {
   "cell_type": "code",
   "execution_count": 2,
   "id": "3cd1b706-f4ae-40a0-9595-7a33b96d1622",
   "metadata": {},
   "outputs": [
    {
     "name": "stdout",
     "output_type": "stream",
     "text": [
      "[[1, 2, 3], [4, 5, 6]]\n"
     ]
    }
   ],
   "source": [
    "print(matriksC)"
   ]
  },
  {
   "cell_type": "code",
   "execution_count": 3,
   "id": "dc22f1e9-808a-41c6-adc4-f16369704396",
   "metadata": {},
   "outputs": [],
   "source": [
    "matriks = [[2,2],[2,2],[2,2]]"
   ]
  },
  {
   "cell_type": "code",
   "execution_count": 4,
   "id": "bf30b830-801f-4313-b0a0-dee41cbe4860",
   "metadata": {},
   "outputs": [
    {
     "name": "stdout",
     "output_type": "stream",
     "text": [
      "[[2, 2], [2, 2], [2, 2]]\n"
     ]
    }
   ],
   "source": [
    "print(matriks)"
   ]
  },
  {
   "cell_type": "code",
   "execution_count": 7,
   "id": "0135f4c3-b784-4d7e-b4a8-8546cd9dd297",
   "metadata": {},
   "outputs": [
    {
     "name": "stdout",
     "output_type": "stream",
     "text": [
      "Collecting numpy\n",
      "  Obtaining dependency information for numpy from https://files.pythonhosted.org/packages/93/fd/3f826c6d15d3bdcf65b8031e4835c52b7d9c45add25efa2314b53850e1a2/numpy-1.26.0-cp311-cp311-win_amd64.whl.metadata\n",
      "  Downloading numpy-1.26.0-cp311-cp311-win_amd64.whl.metadata (61 kB)\n",
      "     ---------------------------------------- 0.0/61.1 kB ? eta -:--:--\n",
      "     ------ --------------------------------- 10.2/61.1 kB ? eta -:--:--\n",
      "     ------------ ------------------------- 20.5/61.1 kB 162.5 kB/s eta 0:00:01\n",
      "     ------------------- ------------------ 30.7/61.1 kB 186.2 kB/s eta 0:00:01\n",
      "     -------------------------------------- 61.1/61.1 kB 295.6 kB/s eta 0:00:00\n",
      "Downloading numpy-1.26.0-cp311-cp311-win_amd64.whl (15.8 MB)\n",
      "   ---------------------------------------- 0.0/15.8 MB ? eta -:--:--\n",
      "   ---------------------------------------- 0.2/15.8 MB 3.1 MB/s eta 0:00:06\n",
      "   - -------------------------------------- 0.5/15.8 MB 5.0 MB/s eta 0:00:04\n",
      "   -- ------------------------------------- 0.8/15.8 MB 6.0 MB/s eta 0:00:03\n",
      "   --- ------------------------------------ 1.2/15.8 MB 6.4 MB/s eta 0:00:03\n",
      "   ---- ----------------------------------- 1.6/15.8 MB 6.8 MB/s eta 0:00:03\n",
      "   ----- ---------------------------------- 2.1/15.8 MB 7.4 MB/s eta 0:00:02\n",
      "   ----- ---------------------------------- 2.3/15.8 MB 7.3 MB/s eta 0:00:02\n",
      "   ------ --------------------------------- 2.5/15.8 MB 7.0 MB/s eta 0:00:02\n",
      "   ------- -------------------------------- 2.8/15.8 MB 6.6 MB/s eta 0:00:02\n",
      "   ------- -------------------------------- 3.0/15.8 MB 6.3 MB/s eta 0:00:03\n",
      "   ------- -------------------------------- 3.1/15.8 MB 6.2 MB/s eta 0:00:03\n",
      "   -------- ------------------------------- 3.4/15.8 MB 6.2 MB/s eta 0:00:02\n",
      "   --------- ------------------------------ 3.6/15.8 MB 5.9 MB/s eta 0:00:03\n",
      "   --------- ------------------------------ 3.9/15.8 MB 5.9 MB/s eta 0:00:03\n",
      "   ---------- ----------------------------- 4.0/15.8 MB 5.8 MB/s eta 0:00:03\n",
      "   ---------- ----------------------------- 4.2/15.8 MB 5.7 MB/s eta 0:00:03\n",
      "   ----------- ---------------------------- 4.4/15.8 MB 5.6 MB/s eta 0:00:03\n",
      "   ----------- ---------------------------- 4.6/15.8 MB 5.5 MB/s eta 0:00:03\n",
      "   ----------- ---------------------------- 4.7/15.8 MB 5.4 MB/s eta 0:00:03\n",
      "   ------------- -------------------------- 5.2/15.8 MB 5.6 MB/s eta 0:00:02\n",
      "   -------------- ------------------------- 5.7/15.8 MB 5.9 MB/s eta 0:00:02\n",
      "   --------------- ------------------------ 6.2/15.8 MB 6.1 MB/s eta 0:00:02\n",
      "   ----------------- ---------------------- 6.7/15.8 MB 6.3 MB/s eta 0:00:02\n",
      "   ------------------ --------------------- 7.2/15.8 MB 6.5 MB/s eta 0:00:02\n",
      "   ------------------- -------------------- 7.8/15.8 MB 6.7 MB/s eta 0:00:02\n",
      "   --------------------- ------------------ 8.4/15.8 MB 6.9 MB/s eta 0:00:02\n",
      "   ---------------------- ----------------- 8.8/15.8 MB 7.1 MB/s eta 0:00:01\n",
      "   ----------------------- ---------------- 9.4/15.8 MB 7.2 MB/s eta 0:00:01\n",
      "   ------------------------- -------------- 9.9/15.8 MB 7.4 MB/s eta 0:00:01\n",
      "   ------------------------- -------------- 10.1/15.8 MB 7.3 MB/s eta 0:00:01\n",
      "   ------------------------- -------------- 10.2/15.8 MB 7.1 MB/s eta 0:00:01\n",
      "   -------------------------- ------------- 10.4/15.8 MB 7.3 MB/s eta 0:00:01\n",
      "   --------------------------- ------------ 10.8/15.8 MB 7.1 MB/s eta 0:00:01\n",
      "   --------------------------- ------------ 10.8/15.8 MB 7.1 MB/s eta 0:00:01\n",
      "   --------------------------- ------------ 11.0/15.8 MB 6.9 MB/s eta 0:00:01\n",
      "   ---------------------------- ----------- 11.3/15.8 MB 6.8 MB/s eta 0:00:01\n",
      "   ---------------------------- ----------- 11.4/15.8 MB 6.7 MB/s eta 0:00:01\n",
      "   ----------------------------- ---------- 11.6/15.8 MB 6.5 MB/s eta 0:00:01\n",
      "   ----------------------------- ---------- 11.7/15.8 MB 6.5 MB/s eta 0:00:01\n",
      "   ------------------------------ --------- 12.0/15.8 MB 6.4 MB/s eta 0:00:01\n",
      "   ------------------------------ --------- 12.1/15.8 MB 6.2 MB/s eta 0:00:01\n",
      "   ------------------------------- -------- 12.3/15.8 MB 6.1 MB/s eta 0:00:01\n",
      "   ------------------------------- -------- 12.5/15.8 MB 6.1 MB/s eta 0:00:01\n",
      "   ------------------------------- -------- 12.6/15.8 MB 6.0 MB/s eta 0:00:01\n",
      "   -------------------------------- ------- 12.7/15.8 MB 5.9 MB/s eta 0:00:01\n",
      "   -------------------------------- ------- 12.9/15.8 MB 5.8 MB/s eta 0:00:01\n",
      "   -------------------------------- ------- 13.0/15.8 MB 5.8 MB/s eta 0:00:01\n",
      "   --------------------------------- ------ 13.2/15.8 MB 5.7 MB/s eta 0:00:01\n",
      "   --------------------------------- ------ 13.3/15.8 MB 5.7 MB/s eta 0:00:01\n",
      "   ---------------------------------- ----- 13.5/15.8 MB 5.7 MB/s eta 0:00:01\n",
      "   ---------------------------------- ----- 13.7/15.8 MB 5.6 MB/s eta 0:00:01\n",
      "   ----------------------------------- ---- 13.8/15.8 MB 5.6 MB/s eta 0:00:01\n",
      "   ----------------------------------- ---- 14.0/15.8 MB 5.5 MB/s eta 0:00:01\n",
      "   ----------------------------------- ---- 14.2/15.8 MB 5.5 MB/s eta 0:00:01\n",
      "   ------------------------------------ --- 14.4/15.8 MB 5.5 MB/s eta 0:00:01\n",
      "   ------------------------------------ --- 14.6/15.8 MB 5.6 MB/s eta 0:00:01\n",
      "   ------------------------------------- -- 14.7/15.8 MB 5.6 MB/s eta 0:00:01\n",
      "   ------------------------------------- -- 14.9/15.8 MB 5.6 MB/s eta 0:00:01\n",
      "   -------------------------------------- - 15.2/15.8 MB 5.5 MB/s eta 0:00:01\n",
      "   -------------------------------------- - 15.4/15.8 MB 5.5 MB/s eta 0:00:01\n",
      "   ---------------------------------------  15.6/15.8 MB 5.4 MB/s eta 0:00:01\n",
      "   ---------------------------------------  15.8/15.8 MB 5.4 MB/s eta 0:00:01\n",
      "   ---------------------------------------  15.8/15.8 MB 5.3 MB/s eta 0:00:01\n",
      "   ---------------------------------------  15.8/15.8 MB 5.3 MB/s eta 0:00:01\n",
      "   ---------------------------------------  15.8/15.8 MB 5.3 MB/s eta 0:00:01\n",
      "   ---------------------------------------- 15.8/15.8 MB 4.9 MB/s eta 0:00:00\n",
      "Installing collected packages: numpy\n",
      "Successfully installed numpy-1.26.0\n",
      "Note: you may need to restart the kernel to use updated packages.\n"
     ]
    }
   ],
   "source": [
    "pip install numpy"
   ]
  },
  {
   "cell_type": "code",
   "execution_count": 8,
   "id": "51199333-d9bf-4e17-b641-2a43f1907477",
   "metadata": {},
   "outputs": [],
   "source": [
    "import numpy as np"
   ]
  },
  {
   "cell_type": "code",
   "execution_count": 9,
   "id": "a64abb27-187c-4a49-890f-8776636fce65",
   "metadata": {},
   "outputs": [],
   "source": [
    "from numpy import *"
   ]
  },
  {
   "cell_type": "code",
   "execution_count": 10,
   "id": "3fb66909-d754-4162-a435-026032a53f9b",
   "metadata": {},
   "outputs": [],
   "source": [
    "matriks = range(32)\n",
    "matriks = reshape(matriks, (4,8))"
   ]
  },
  {
   "cell_type": "code",
   "execution_count": 11,
   "id": "3c92d6c8-510d-40a9-b9b6-75ba01fcf96b",
   "metadata": {},
   "outputs": [
    {
     "name": "stdout",
     "output_type": "stream",
     "text": [
      "[[ 0  1  2  3  4  5  6  7]\n",
      " [ 8  9 10 11 12 13 14 15]\n",
      " [16 17 18 19 20 21 22 23]\n",
      " [24 25 26 27 28 29 30 31]]\n"
     ]
    }
   ],
   "source": [
    "print(matriks)"
   ]
  },
  {
   "cell_type": "code",
   "execution_count": 12,
   "id": "b3707415-b121-48a0-aa28-d08828e225b5",
   "metadata": {},
   "outputs": [],
   "source": [
    "import numpy as np\n",
    "from numpy import *"
   ]
  },
  {
   "cell_type": "code",
   "execution_count": 13,
   "id": "0dc0623a-6aa4-481d-9c6c-8145764c09b3",
   "metadata": {},
   "outputs": [],
   "source": [
    "matriks = np.random.randint(1,5,(3,30))"
   ]
  },
  {
   "cell_type": "code",
   "execution_count": 14,
   "id": "e3d4a87b-0405-4b69-9a99-07721c1d2aa4",
   "metadata": {},
   "outputs": [
    {
     "name": "stdout",
     "output_type": "stream",
     "text": [
      "[[1 2 3 2 1 3 4 2 1 1 1 4 4 2 4 4 4 2 3 1 3 2 4 2 4 2 1 3 3 3]\n",
      " [2 4 4 4 3 1 3 1 2 1 3 4 2 4 1 3 2 4 1 3 3 3 3 1 1 2 1 4 2 1]\n",
      " [1 2 1 4 4 3 3 1 2 4 2 3 1 1 1 3 4 4 2 2 4 2 3 3 2 4 2 1 4 4]]\n"
     ]
    }
   ],
   "source": [
    "print(matriks)"
   ]
  },
  {
   "cell_type": "code",
   "execution_count": null,
   "id": "00d290c1-6977-4733-a816-9d8c075b0f7e",
   "metadata": {},
   "outputs": [],
   "source": []
  }
 ],
 "metadata": {
  "kernelspec": {
   "display_name": "Python 3 (ipykernel)",
   "language": "python",
   "name": "python3"
  },
  "language_info": {
   "codemirror_mode": {
    "name": "ipython",
    "version": 3
   },
   "file_extension": ".py",
   "mimetype": "text/x-python",
   "name": "python",
   "nbconvert_exporter": "python",
   "pygments_lexer": "ipython3",
   "version": "3.11.5"
  }
 },
 "nbformat": 4,
 "nbformat_minor": 5
}
